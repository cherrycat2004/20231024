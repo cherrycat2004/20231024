{
  "nbformat": 4,
  "nbformat_minor": 0,
  "metadata": {
    "colab": {
      "provenance": []
    },
    "kernelspec": {
      "name": "python3",
      "display_name": "Python 3"
    },
    "language_info": {
      "name": "python"
    }
  },
  "cells": [
    {
      "cell_type": "code",
      "execution_count": 1,
      "metadata": {
        "colab": {
          "base_uri": "https://localhost:8080/"
        },
        "id": "7Vr1UNFmT1ep",
        "outputId": "d94fd67b-8bf8-445d-ba6f-1ad4fa9ced45"
      },
      "outputs": [
        {
          "output_type": "stream",
          "name": "stdout",
          "text": [
            "請輸入耶誕樹層數(>6整數)12\n",
            "           *\n",
            "          ***\n",
            "         *****\n",
            "        *******\n",
            "       *********\n",
            "      ***********\n",
            "     *************\n",
            "    ***************\n",
            "   *****************\n",
            "  *******************\n",
            " *********************\n",
            "***********************\n",
            "          ***\n",
            "          ***\n",
            "          ***\n",
            "          ***\n",
            "          ***\n"
          ]
        }
      ],
      "source": [
        "def printtree(x):\n",
        "  for i in range(1,x+1):\n",
        "    print(' '*(x-i)+'*'*(2*i-1))\n",
        "  for j in range(1,6):\n",
        "    print(' '*(x-2)+'*'*3)\n",
        "\n",
        "try:\n",
        "  y=int(input('請輸入耶誕樹層數(>6整數)'))\n",
        "  if(y<7):\n",
        "    raise ValueError\n",
        "  printtree(y)\n",
        "except ValueError:\n",
        "    print(\"輸入內容錯誤:至少七層並為整數\")"
      ]
    },
    {
      "cell_type": "code",
      "source": [
        "def bmicaculate(h,w):\n",
        "  bmi = round(w/(h*h),1)\n",
        "  if bmi<18.5:\n",
        "    bmiresult = '你的BMI為'+str(bmi)+'，小於18.5，體位過輕'\n",
        "  elif bmi>=18.5 and bmi<=24:\n",
        "      bmiresult = '你的BMI為'+str(bmi)+'，介於18.5與24之間體位適中'\n",
        "  elif bmi>=24 and bmi<=27:\n",
        "      bmiresult = '你的BMI為'+str(bmi)+'，介於24與27之間，體位過重'\n",
        "  else:\n",
        "      bmiresult = '你的BMI為'+str(bmi)+'，大於27，體位肥胖'\n",
        "  return bmiresult\n",
        "\n",
        "try:\n",
        "    h = float(input('請輸入身高(cm)：'))/100\n",
        "    w = float(input('請輸入體重(kg)：'))\n",
        "\n",
        "    print(bmicaculate(h,w))\n",
        "\n",
        "except ValueError:\n",
        "    print(\"輸入內容錯誤\")"
      ],
      "metadata": {
        "colab": {
          "base_uri": "https://localhost:8080/"
        },
        "id": "A7Oc1Z3JUW1L",
        "outputId": "200ccdc2-41e2-4384-931c-ad81cafbc587"
      },
      "execution_count": 4,
      "outputs": [
        {
          "output_type": "stream",
          "name": "stdout",
          "text": [
            "請輸入身高(cm)：180\n",
            "請輸入體重(kg)：60\n",
            "你的BMI為18.5，介於18.5與24之間體位適中\n"
          ]
        }
      ]
    }
  ]
}